{
 "cells": [
  {
   "cell_type": "code",
   "execution_count": null,
   "metadata": {},
   "outputs": [],
   "source": [
    "import os\n",
    "from langchain.embeddings import HuggingFaceEmbeddings  # Correct class from HuggingFace\n",
    "from llama_index.embeddings.langchain import LangchainEmbedding\n",
    "from llama_index.core import Settings, VectorStoreIndex, PromptTemplate, SimpleDirectoryReader\n",
    "from llama_index.llms.ollama import Ollama  # Assuming you corrected the import here\n",
    "from llama_index.core.retrievers  import VectorIndexRetriever\n",
    "\n",
    "from llama_index.core.postprocessor import LLMRerank\n",
    "from IPython.display import Markdown, display\n",
    "from IPython.display import HTML\n",
    "import pandas as pd\n",
    "\n",
    "\n",
    "\n",
    "# Loading documents from directory\n",
    "docs = SimpleDirectoryReader(\"/mnt/c/Users/edeep/RAG/RAG_Codebase/project3_se-final_with_openai/project3_se-final_with_openai/\", recursive=True).load_data()\n",
    "\n",
    "# Load the embedding model\n",
    "def load_embedding_model(model_name=\"sentence-transformers/all-mpnet-base-v2\", device=\"cuda\"):\n",
    "    model_kwargs = {\"device\": device}\n",
    "    encode_kwargs = {\"normalize_embeddings\": True}\n",
    "    return HuggingFaceEmbeddings(model_name=model_name, model_kwargs=model_kwargs, encode_kwargs=encode_kwargs)\n",
    "\n",
    "# Initializing components\n",
    "lc_embedding_model = load_embedding_model()\n",
    "embed_model = LangchainEmbedding(lc_embedding_model)\n",
    "Settings.embed_model = embed_model\n",
    "\n",
    "# Assuming local_directory and extensions are part of some other operations not shown here\n",
    "local_directory = '/mnt/c/Users/edeep/RAG/RAG_Codebase'\n",
    "extensions = [\".py\", \".ipynb\", \".js\", \".ts\", \".md\"]\n",
    "\n",
    "# Indexing documents\n",
    "index = VectorStoreIndex.from_documents(docs)\n",
    "\n",
    "# Setting up LLM and querying capabilities\n",
    "llm = Ollama(model=\"mistral\", request_timeout=60.0)\n",
    "Settings.llm = llm\n",
    "query_engine = index.as_query_engine(streaming=True, similarity_top_k=4)\n",
    "\n",
    "# Template for queries\n",
    "qa_prompt_tmpl_str = (\n",
    "    \"Context information is below.\\n\"\n",
    "    \"---------------------\\n\"\n",
    "    \"{context_str}\\n\"\n",
    "    \"---------------------\\n\"\n",
    "    \"Given the context information above, I want you to think step by step to answer the query in a crisp manner, in case you don't know the answer say 'I don't know!'.\\n\"\n",
    "    \"Query: {query_str}\\n\"\n",
    "    \"Answer: \"\n",
    ")\n",
    "qa_prompt_tmpl = PromptTemplate(qa_prompt_tmpl_str)\n",
    "query_engine.update_prompts({\"response_synthesizer:text_qa_template\": qa_prompt_tmpl})\n",
    "\n",
    "\n"
   ]
  },
  {
   "cell_type": "markdown",
   "metadata": {},
   "source": [
    "ReRanking"
   ]
  },
  {
   "cell_type": "code",
   "execution_count": null,
   "metadata": {},
   "outputs": [],
   "source": [
    "\n",
    "query_engine = index.as_query_engine(\n",
    "    similarity_top_k=10,\n",
    "    node_postprocessors=[\n",
    "        LLMRerank(\n",
    "            choice_batch_size=5,\n",
    "            top_n=2,\n",
    "        )\n",
    "    ],\n",
    "    response_mode=\"tree_summarize\",\n",
    ")\n",
    "response = query_engine.query(\n",
    "    \"What does vendor service do?\",\n",
    ")\n",
    "print(response)"
   ]
  },
  {
   "cell_type": "code",
   "execution_count": null,
   "metadata": {},
   "outputs": [],
   "source": [
    "vector_top_k = 10\n",
    "reranker_top_n = 2\n",
    "\n",
    "query_str = \"What does product service do?\"\n",
    "\n",
    "# configure retriever\n",
    "retriever = VectorIndexRetriever(\n",
    "index=index,\n",
    "similarity_top_k=vector_top_k,\n",
    ")\n",
    "retrieved_nodes = retriever.retrieve(query_str)\n",
    "# # configure reranker\n",
    "# reranker = LLMRerank(choice_batch_size=5, top_n=reranker_top_n , service_context=None)\n",
    "# retrieved_nodes = reranker.postprocess_nodes(retrieved_nodes, query_bundle)"
   ]
  },
  {
   "cell_type": "code",
   "execution_count": null,
   "metadata": {},
   "outputs": [],
   "source": [
    "print(len(retrieved_nodes))"
   ]
  },
  {
   "cell_type": "code",
   "execution_count": null,
   "metadata": {},
   "outputs": [],
   "source": [
    "\n",
    "pd.set_option(\"display.max_colwidth\", 10)\n",
    "def pretty_print(df):\n",
    "    return display(HTML(df.to_html().replace(\"\\\\n\", \"<br>\")))\n",
    "\n",
    "\n",
    "def visualize_retrieved_nodes(nodes) -> None:\n",
    "    result_dicts = []\n",
    "    for node in nodes:\n",
    "        result_dict = {\"Score\": node.score, \"Text\": node.node.get_text()}\n",
    "        result_dicts.append(result_dict)\n",
    "\n",
    "    pretty_print(pd.DataFrame(result_dicts))\n",
    "\n",
    "\n",
    "visualize_retrieved_nodes(retrieved_nodes)"
   ]
  },
  {
   "cell_type": "code",
   "execution_count": null,
   "metadata": {},
   "outputs": [],
   "source": [
    "from llama_index.core.schema import QueryBundle\n",
    "query_str = \"What does product service do?\"\n",
    "query_bundle = QueryBundle(query_str, None)\n",
    "\n",
    "reranker = LLMRerank(choice_batch_size=5, top_n=reranker_top_n , service_context=None)\n",
    "retrieved_nodes = reranker.postprocess_nodes(retrieved_nodes, query_bundle)"
   ]
  },
  {
   "cell_type": "code",
   "execution_count": null,
   "metadata": {},
   "outputs": [],
   "source": [
    "visualize_retrieved_nodes(retrieved_nodes)"
   ]
  }
 ],
 "metadata": {
  "kernelspec": {
   "display_name": "rag",
   "language": "python",
   "name": "python3"
  },
  "language_info": {
   "codemirror_mode": {
    "name": "ipython",
    "version": 3
   },
   "file_extension": ".py",
   "mimetype": "text/x-python",
   "name": "python",
   "nbconvert_exporter": "python",
   "pygments_lexer": "ipython3",
   "version": "3.12.3"
  }
 },
 "nbformat": 4,
 "nbformat_minor": 2
}
